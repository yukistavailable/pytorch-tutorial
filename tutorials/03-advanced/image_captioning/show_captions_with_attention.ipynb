{
 "cells": [
  {
   "cell_type": "code",
   "execution_count": 1,
   "outputs": [],
   "source": [
    "import torch\n",
    "import matplotlib.pyplot as plt\n",
    "import numpy as np\n",
    "import argparse\n",
    "import pickle\n",
    "import os\n",
    "import glob\n",
    "from torchvision import transforms\n",
    "from build_vocab import Vocabulary\n",
    "from model import EncoderCNNWithAttention, DecoderRNNWithAttention\n",
    "from PIL import Image"
   ],
   "metadata": {
    "collapsed": false,
    "pycharm": {
     "name": "#%%\n"
    }
   }
  },
  {
   "cell_type": "code",
   "execution_count": 2,
   "outputs": [],
   "source": [
    "device = torch.device('cuda' if torch.cuda.is_available() else 'cpu')"
   ],
   "metadata": {
    "collapsed": false,
    "pycharm": {
     "name": "#%%\n"
    }
   }
  },
  {
   "cell_type": "code",
   "execution_count": 3,
   "outputs": [],
   "source": [
    "def load_image(image_path, transform=None):\n",
    "    image = Image.open(image_path).convert('RGB')\n",
    "    image = image.resize([224, 224], Image.LANCZOS)\n",
    "\n",
    "    if transform is not None:\n",
    "        image = transform(image).unsqueeze(0)\n",
    "\n",
    "    return image"
   ],
   "metadata": {
    "collapsed": false,
    "pycharm": {
     "name": "#%%\n"
    }
   }
  },
  {
   "cell_type": "code",
   "execution_count": 4,
   "outputs": [],
   "source": [
    "image_path = 'data/images/elephants.png'\n",
    "encoder_path = 'models/encoder-with-attention-3-3000.ckpt'\n",
    "decoder_path = 'models/decoder-with-attention-3-3000.ckpt'\n",
    "vocab_path = 'data/vocab.pkl'\n",
    "embed_size = 512\n",
    "hidden_size = 512\n",
    "encoded_size = 512\n",
    "num_layers = 1\n",
    "pixel_num = 16"
   ],
   "metadata": {
    "collapsed": false,
    "pycharm": {
     "name": "#%%\n"
    }
   }
  },
  {
   "cell_type": "code",
   "execution_count": 5,
   "outputs": [],
   "source": [
    "def main(image, encoder_path, decoder_path, vocab_path, embed_size, hidden_size, num_layers):\n",
    "    # Image preprocessing\n",
    "    transform = transforms.Compose([\n",
    "        transforms.ToTensor(),\n",
    "        transforms.Normalize((0.485, 0.456, 0.406),\n",
    "                             (0.229, 0.224, 0.225))])\n",
    "\n",
    "    # Load vocabulary wrapper\n",
    "    with open(vocab_path, 'rb') as f:\n",
    "        vocab = pickle.load(f)\n",
    "\n",
    "    # Build models\n",
    "    # eval mode (batchnorm uses moving mean/variance)\n",
    "    encoder = EncoderCNNWithAttention(embed_size).eval()\n",
    "    decoder = DecoderRNNWithAttention(\n",
    "        embed_size,\n",
    "        hidden_size,\n",
    "        len(vocab),\n",
    "        num_layers, encoded_size, device).eval()\n",
    "    encoder = encoder.to(device)\n",
    "    decoder = decoder.to(device)\n",
    "\n",
    "    # Load the trained model parameters\n",
    "    try:\n",
    "        if torch.cuda.is_available():\n",
    "            encoder.load_state_dict(torch.load(encoder_path))\n",
    "        else:\n",
    "            encoder.load_state_dict(\n",
    "                torch.load(\n",
    "                    encoder_path,\n",
    "                    map_location=torch.device('cpu')))\n",
    "    except BaseException as e:\n",
    "        print(e)\n",
    "    try:\n",
    "        if torch.cuda.is_available():\n",
    "            decoder.load_state_dict(torch.load(decoder_path))\n",
    "        else:\n",
    "            decoder.load_state_dict(\n",
    "                torch.load(\n",
    "                    decoder_path,\n",
    "                    map_location=torch.device('cpu')))\n",
    "    except BaseException as e:\n",
    "        print(e)\n",
    "\n",
    "    # Prepare an image\n",
    "    image = load_image(image, transform)\n",
    "    image_tensor = image.to(device)\n",
    "\n",
    "    # Generate an caption from the image\n",
    "    with torch.no_grad():\n",
    "        feature = encoder(image_tensor)\n",
    "        sampled_ids = decoder.sample(feature)\n",
    "    # (1, max_seq_length) -> (max_seq_length)\n",
    "    sampled_ids = sampled_ids[0].cpu().numpy()\n",
    "    print(sampled_ids)\n",
    "\n",
    "    # Convert word_ids to words\n",
    "    sampled_caption = []\n",
    "    for word_id in sampled_ids:\n",
    "        word = vocab.idx2word[word_id]\n",
    "        sampled_caption.append(word)\n",
    "        if word == '<end>':\n",
    "            break\n",
    "    sentence = ' '.join(sampled_caption)\n",
    "    return sentence"
   ],
   "metadata": {
    "collapsed": false,
    "pycharm": {
     "name": "#%%\n"
    }
   }
  },
  {
   "cell_type": "code",
   "execution_count": 6,
   "outputs": [
    {
     "name": "stderr",
     "output_type": "stream",
     "text": [
      "/var/folders/8h/gq3wkjn971g716fqf8xqlpch0000gn/T/ipykernel_26548/2332518779.py:3: DeprecationWarning: LANCZOS is deprecated and will be removed in Pillow 10 (2023-07-01). Use Resampling.LANCZOS instead.\n",
      "  image = image.resize([224, 224], Image.LANCZOS)\n"
     ]
    },
    {
     "name": "stdout",
     "output_type": "stream",
     "text": [
      "torch.Size([1, 1, 512])\n",
      "torch.Size([1, 512])\n",
      "torch.Size([1, 1, 512])\n",
      "torch.Size([1, 512])\n",
      "torch.Size([1, 1, 512])\n",
      "torch.Size([1, 512])\n",
      "torch.Size([1, 1, 512])\n",
      "torch.Size([1, 512])\n",
      "torch.Size([1, 1, 512])\n",
      "torch.Size([1, 512])\n",
      "torch.Size([1, 1, 512])\n",
      "torch.Size([1, 512])\n",
      "torch.Size([1, 1, 512])\n",
      "torch.Size([1, 512])\n",
      "torch.Size([1, 1, 512])\n",
      "torch.Size([1, 512])\n",
      "torch.Size([1, 1, 512])\n",
      "torch.Size([1, 512])\n",
      "torch.Size([1, 1, 512])\n",
      "torch.Size([1, 512])\n",
      "torch.Size([1, 1, 512])\n",
      "torch.Size([1, 512])\n",
      "torch.Size([1, 1, 512])\n",
      "torch.Size([1, 512])\n",
      "torch.Size([1, 1, 512])\n",
      "torch.Size([1, 512])\n",
      "torch.Size([1, 1, 512])\n",
      "torch.Size([1, 512])\n",
      "torch.Size([1, 1, 512])\n",
      "torch.Size([1, 512])\n",
      "torch.Size([1, 1, 512])\n",
      "torch.Size([1, 512])\n",
      "torch.Size([1, 1, 512])\n",
      "torch.Size([1, 512])\n",
      "torch.Size([1, 1, 512])\n",
      "torch.Size([1, 512])\n",
      "torch.Size([1, 1, 512])\n",
      "torch.Size([1, 512])\n",
      "[  4 371 131   4   4   4   4   4  19  19  19  19  19  19  19  19  19  19\n",
      "  19  19]\n"
     ]
    }
   ],
   "source": [
    "image_path = 'data/images/elephants.png'\n",
    "sentence = main(image_path, encoder_path, decoder_path, vocab_path, embed_size, hidden_size, num_layers)"
   ],
   "metadata": {
    "collapsed": false,
    "pycharm": {
     "name": "#%%\n"
    }
   }
  },
  {
   "cell_type": "code",
   "execution_count": 6,
   "outputs": [],
   "source": [],
   "metadata": {
    "collapsed": false,
    "pycharm": {
     "name": "#%%\n"
    }
   }
  },
  {
   "cell_type": "code",
   "execution_count": null,
   "outputs": [],
   "source": [],
   "metadata": {
    "collapsed": false,
    "pycharm": {
     "name": "#%%\n"
    }
   }
  }
 ],
 "metadata": {
  "kernelspec": {
   "display_name": "Python 3",
   "language": "python",
   "name": "python3"
  },
  "language_info": {
   "codemirror_mode": {
    "name": "ipython",
    "version": 2
   },
   "file_extension": ".py",
   "mimetype": "text/x-python",
   "name": "python",
   "nbconvert_exporter": "python",
   "pygments_lexer": "ipython2",
   "version": "2.7.6"
  }
 },
 "nbformat": 4,
 "nbformat_minor": 0
}